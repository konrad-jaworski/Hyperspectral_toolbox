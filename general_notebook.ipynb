{
 "cells": [
  {
   "cell_type": "code",
   "execution_count": 19,
   "id": "93da42f6",
   "metadata": {},
   "outputs": [],
   "source": [
    "import numpy as np\n",
    "from hyperspectral.toolbox_hyperspectral import HypercubeLoader\n",
    "from matplotlib import pyplot as plt"
   ]
  },
  {
   "cell_type": "code",
   "execution_count": 4,
   "id": "9d80d1d8",
   "metadata": {},
   "outputs": [],
   "source": [
    "data_path='/Volumes/My Passport/independent_HS_1'"
   ]
  },
  {
   "cell_type": "code",
   "execution_count": 5,
   "id": "417c8a95",
   "metadata": {},
   "outputs": [],
   "source": [
    "loader = HypercubeLoader(\n",
    "    root_path=data_path,\n",
    "    height=512,   # Default is 512, can omit if same\n",
    "    width=640     # Default is 640, can omit if same\n",
    ")"
   ]
  },
  {
   "cell_type": "code",
   "execution_count": 16,
   "id": "373f011f",
   "metadata": {},
   "outputs": [],
   "source": [
    "frame_type = \"calibrated\"  # or \"raw\" or \"temperature\" or \"calibrated\"\n",
    "frame_index = 0          # which frame to load\n",
    "\n",
    "hypercube, full_transmission = loader.load_frames(frame_type, frame_index)"
   ]
  },
  {
   "cell_type": "code",
   "execution_count": 23,
   "id": "d3e82658",
   "metadata": {},
   "outputs": [
    {
     "data": {
      "text/plain": [
       "defaultdict(list,\n",
       "            {(0, 0): '0_0',\n",
       "             (0, 1): '0_1',\n",
       "             (0, 2): '0_2',\n",
       "             (0, 3): '0_3',\n",
       "             (0, 4): '0_4',\n",
       "             (0, 5): '0_5',\n",
       "             (0, 6): '0_6',\n",
       "             (0, 7): '0_7',\n",
       "             (1, 0): '1_0',\n",
       "             (1, 1): '1_1',\n",
       "             (1, 2): '1_2',\n",
       "             (1, 3): '1_3',\n",
       "             (1, 4): '1_4',\n",
       "             (1, 5): '1_5',\n",
       "             (1, 6): '1_6',\n",
       "             (1, 7): '1_7',\n",
       "             (2, 0): '2_0',\n",
       "             (2, 1): '2_1',\n",
       "             (2, 2): '2_2',\n",
       "             (2, 3): '2_3',\n",
       "             (2, 4): '2_4',\n",
       "             (2, 5): '2_5',\n",
       "             (2, 6): '2_6',\n",
       "             (2, 7): '2_7',\n",
       "             (3, 0): '3_0',\n",
       "             (3, 1): '3_1',\n",
       "             (3, 2): '3_2',\n",
       "             (3, 3): '3_3',\n",
       "             (3, 4): '3_4',\n",
       "             (3, 5): '3_5',\n",
       "             (3, 6): '3_6',\n",
       "             (3, 7): '3_7',\n",
       "             (4, 0): '4_0',\n",
       "             (4, 1): '4_1',\n",
       "             (4, 2): '4_2',\n",
       "             (4, 3): '4_3',\n",
       "             (4, 4): '4_4',\n",
       "             (4, 5): '4_5',\n",
       "             (4, 6): '4_6',\n",
       "             (4, 7): '4_7',\n",
       "             (5, 0): '5_0',\n",
       "             (5, 1): '5_1',\n",
       "             (5, 2): '5_2',\n",
       "             (5, 3): '5_3',\n",
       "             (5, 4): '5_4',\n",
       "             (5, 5): '5_5',\n",
       "             (5, 6): '5_6',\n",
       "             (5, 7): '5_7',\n",
       "             (6, 0): '6_0',\n",
       "             (6, 1): '6_1',\n",
       "             (6, 2): '6_2',\n",
       "             (6, 3): '6_3',\n",
       "             (6, 4): '6_4',\n",
       "             (6, 5): '6_5',\n",
       "             (6, 6): '6_6',\n",
       "             (6, 7): '6_7',\n",
       "             (7, 0): '7_0',\n",
       "             (7, 1): '7_1',\n",
       "             (7, 2): '7_2',\n",
       "             (7, 3): '7_3',\n",
       "             (7, 4): '7_4',\n",
       "             (7, 5): '7_5',\n",
       "             (7, 6): '7_6',\n",
       "             (7, 7): '7_7'})"
      ]
     },
     "execution_count": 23,
     "metadata": {},
     "output_type": "execute_result"
    }
   ],
   "source": [
    "loader.folder_groups"
   ]
  },
  {
   "cell_type": "code",
   "execution_count": 24,
   "id": "7c0f01bb",
   "metadata": {},
   "outputs": [
    {
     "data": {
      "text/plain": [
       "['1_0',\n",
       " '2_0',\n",
       " '3_0',\n",
       " '4_0',\n",
       " '5_0',\n",
       " '6_0',\n",
       " '7_0',\n",
       " '0_1',\n",
       " '0_2',\n",
       " '0_3',\n",
       " '0_4',\n",
       " '0_5',\n",
       " '0_6',\n",
       " '0_7',\n",
       " '1_1',\n",
       " '1_2',\n",
       " '1_3',\n",
       " '1_4',\n",
       " '1_5',\n",
       " '1_6',\n",
       " '1_7',\n",
       " '2_1',\n",
       " '2_2',\n",
       " '2_3',\n",
       " '2_4',\n",
       " '2_5',\n",
       " '2_6',\n",
       " '2_7',\n",
       " '3_1',\n",
       " '3_2',\n",
       " '3_3',\n",
       " '3_4',\n",
       " '3_5',\n",
       " '3_6',\n",
       " '3_7',\n",
       " '4_1',\n",
       " '4_2',\n",
       " '4_3',\n",
       " '4_4',\n",
       " '4_5',\n",
       " '4_6',\n",
       " '4_7',\n",
       " '5_1',\n",
       " '5_2',\n",
       " '5_3',\n",
       " '5_4',\n",
       " '5_5',\n",
       " '5_6',\n",
       " '5_7',\n",
       " '6_1',\n",
       " '6_2',\n",
       " '6_3',\n",
       " '6_4',\n",
       " '6_5',\n",
       " '6_6',\n",
       " '6_7',\n",
       " '7_1',\n",
       " '7_2',\n",
       " '7_3',\n",
       " '7_4',\n",
       " '7_5',\n",
       " '7_6',\n",
       " '7_7']"
      ]
     },
     "execution_count": 24,
     "metadata": {},
     "output_type": "execute_result"
    }
   ],
   "source": [
    "loader._get_ordered_folders()"
   ]
  },
  {
   "cell_type": "code",
   "execution_count": 7,
   "id": "4b907648",
   "metadata": {},
   "outputs": [
    {
     "data": {
      "text/plain": [
       "(63, 512, 640)"
      ]
     },
     "execution_count": 7,
     "metadata": {},
     "output_type": "execute_result"
    }
   ],
   "source": [
    "hypercube.shape"
   ]
  },
  {
   "cell_type": "code",
   "execution_count": 8,
   "id": "dda10806",
   "metadata": {},
   "outputs": [
    {
     "data": {
      "text/plain": [
       "(512, 640)"
      ]
     },
     "execution_count": 8,
     "metadata": {},
     "output_type": "execute_result"
    }
   ],
   "source": [
    "full_transmission.shape"
   ]
  }
 ],
 "metadata": {
  "kernelspec": {
   "display_name": "hyper",
   "language": "python",
   "name": "python3"
  },
  "language_info": {
   "codemirror_mode": {
    "name": "ipython",
    "version": 3
   },
   "file_extension": ".py",
   "mimetype": "text/x-python",
   "name": "python",
   "nbconvert_exporter": "python",
   "pygments_lexer": "ipython3",
   "version": "3.11.9"
  }
 },
 "nbformat": 4,
 "nbformat_minor": 5
}
